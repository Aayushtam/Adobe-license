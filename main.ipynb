{
 "cells": [
  {
   "cell_type": "markdown",
   "metadata": {},
   "source": [
    "### Import required libraries"
   ]
  },
  {
   "cell_type": "code",
   "execution_count": 1,
   "metadata": {},
   "outputs": [],
   "source": [
    "import os \n",
    "import pandas as pd\n",
    "import requests\n",
    "from bs4 import BeautifulSoup"
   ]
  },
  {
   "cell_type": "markdown",
   "metadata": {},
   "source": [
    "### Get the response from the url"
   ]
  },
  {
   "cell_type": "code",
   "execution_count": 2,
   "metadata": {},
   "outputs": [],
   "source": [
    "url = \"https://www.adobe.com/legal/licenses-terms.html\"\n",
    "headers = {\n",
    "    'User-Agent': 'Mozilla/5.0 (Windows NT 10.0; Win64; x64) AppleWebKit/537.36 (KHTML, like Gecko) Chrome/91.0.4472.124 Safari/537.36'\n",
    "}\n",
    "\n",
    "response = requests.get(url, headers=headers)"
   ]
  },
  {
   "cell_type": "markdown",
   "metadata": {},
   "source": [
    "### Retrieve the html content of the url"
   ]
  },
  {
   "cell_type": "code",
   "execution_count": 3,
   "metadata": {},
   "outputs": [],
   "source": [
    "soup = BeautifulSoup(response.content, \"html.parser\")"
   ]
  },
  {
   "cell_type": "markdown",
   "metadata": {},
   "source": [
    "### Retriving resource name"
   ]
  },
  {
   "cell_type": "code",
   "execution_count": 4,
   "metadata": {},
   "outputs": [],
   "source": [
    "resource_name = soup.find(\"div\", id=\"root_content_position_2fc2_position-par_position_2fc2_0\")"
   ]
  },
  {
   "cell_type": "code",
   "execution_count": 5,
   "metadata": {},
   "outputs": [],
   "source": [
    "resource_names= resource_name.find_all(\"p\")"
   ]
  },
  {
   "cell_type": "code",
   "execution_count": 6,
   "metadata": {},
   "outputs": [],
   "source": [
    "resource_name_list=[]\n",
    "for name in resource_names:\n",
    "    p_tag=name.text\n",
    "    resource_name_list.append(p_tag)"
   ]
  },
  {
   "cell_type": "code",
   "execution_count": 7,
   "metadata": {},
   "outputs": [],
   "source": [
    "import re  # Import the re module for regular expressions\n",
    "\n",
    "first_sentence = resource_name_list[0]\n",
    "filtered_resource_names = [first_sentence]  # Initialize with the first sentence\n",
    "removal_words = [\"General\", \"License\", \"Terms\", \"EULA\", \"Product\", \"Available\", \"Agreement\", \"contract\", \"2023\"]\n",
    "\n",
    "# Create a new list to store non-digit sentences\n",
    "non_digit_sentences = []\n",
    "\n",
    "for sentence in resource_name_list[1:]:  # Start from the second sentence\n",
    "    # Check if the sentence contains only digits or floating-point numbers\n",
    "    if re.match(r'^-?\\d+\\.?\\d*$', sentence.strip()):\n",
    "        continue  # Skip sentences that are numeric\n",
    "    non_digit_sentences.append(sentence)  # Add non-numeric sentences to the new list\n",
    "\n",
    "# Filter non-numeric sentences based on removal_words\n",
    "for sentence in non_digit_sentences:\n",
    "    if not any(word.lower() in sentence.lower() for word in removal_words):\n",
    "        filtered_resource_names.append(sentence)\n",
    "filtered_text_list = []\n",
    "# Print the filtered sentences\n",
    "for idx, sentence in enumerate(filtered_resource_names, start=1):\n",
    "    filtered_text_list.append(sentence)\n",
    "filtered_text_list = [s.replace('\\n', '').replace('\\xa0', '') for s in filtered_text_list]\n",
    "filtered_text_list = [s for s in filtered_text_list if s.strip()]\n"
   ]
  },
  {
   "cell_type": "markdown",
   "metadata": {},
   "source": [
    "### Retriving resource data"
   ]
  },
  {
   "cell_type": "code",
   "execution_count": 8,
   "metadata": {},
   "outputs": [],
   "source": [
    "resource_urls = soup.find_all(\"p\")"
   ]
  },
  {
   "cell_type": "code",
   "execution_count": 9,
   "metadata": {},
   "outputs": [],
   "source": [
    "resource_url_list = []\n",
    "for i in resource_urls[1:]:\n",
    "    a_tag = i.find_all('a')\n",
    "    if a_tag:\n",
    "        resource_url_list.append(a_tag[0]['href'])"
   ]
  },
  {
   "cell_type": "code",
   "execution_count": 10,
   "metadata": {},
   "outputs": [],
   "source": [
    "del resource_url_list[0]"
   ]
  },
  {
   "cell_type": "code",
   "execution_count": 11,
   "metadata": {},
   "outputs": [
    {
     "data": {
      "text/plain": [
       "101"
      ]
     },
     "execution_count": 11,
     "metadata": {},
     "output_type": "execute_result"
    }
   ],
   "source": [
    "len(filtered_text_list)"
   ]
  },
  {
   "cell_type": "code",
   "execution_count": 12,
   "metadata": {},
   "outputs": [
    {
     "data": {
      "text/plain": [
       "101"
      ]
     },
     "execution_count": 12,
     "metadata": {},
     "output_type": "execute_result"
    }
   ],
   "source": [
    "len(resource_url_list)"
   ]
  },
  {
   "cell_type": "code",
   "execution_count": 13,
   "metadata": {},
   "outputs": [
    {
     "data": {
      "text/plain": [
       "['https://www.adobe.com/legal/terms.html',\n",
       " 'https://www.adobe.com/legal/terms.html',\n",
       " 'https://www.adobe.com/legal/terms.html',\n",
       " 'https://www.adobe.com/legal/terms.html',\n",
       " 'https://www.adobe.com/legal/terms.html',\n",
       " 'https://www.adobe.com/legal/terms.html',\n",
       " 'https://www.adobe.com/legal/terms.html',\n",
       " 'https://www.adobe.com/legal/terms.html',\n",
       " 'https://www.adobe.com/legal/terms.html',\n",
       " 'https://www.adobe.com/legal/terms.html',\n",
       " 'https://www.adobe.com/legal/terms.html',\n",
       " 'https://www.adobe.com/legal/terms.html',\n",
       " 'https://www.adobe.com/legal/terms.html',\n",
       " 'https://www.adobe.com/legal/terms.html',\n",
       " 'https://www.adobe.com/legal/terms.html',\n",
       " 'https://www.adobe.com/legal/terms.html',\n",
       " 'https://www.adobe.com/legal/terms.html',\n",
       " 'https://www.adobe.com/legal/terms.html',\n",
       " 'https://www.adobe.com/legal/terms.html',\n",
       " 'https://www.adobe.com/legal/terms.html',\n",
       " 'https://www.adobe.com/legal/terms.html',\n",
       " 'https://www.adobe.com/legal/terms.html',\n",
       " 'https://www.adobe.com/legal/terms.html',\n",
       " 'https://www.adobe.com/legal/terms.html',\n",
       " 'https://www.adobe.com/legal/terms.html',\n",
       " 'https://www.adobe.com/legal/terms.html',\n",
       " 'https://www.adobe.com/legal/terms.html',\n",
       " 'https://www.adobe.com/legal/terms.html',\n",
       " 'https://www.adobe.com/legal/terms.html',\n",
       " 'https://www.adobe.com/legal/terms.html',\n",
       " 'https://www.adobe.com/legal/terms.html',\n",
       " 'https://www.adobe.com/legal/terms.html',\n",
       " 'https://www.adobe.com/legal/terms.html',\n",
       " 'https://www.adobe.com/legal/terms.html',\n",
       " 'https://www.adobe.com/legal/terms.html',\n",
       " 'https://www.adobe.com/legal/terms.html',\n",
       " 'https://www.adobe.com/legal/terms.html',\n",
       " 'https://www.adobe.com/legal/terms.html',\n",
       " '/content/dam/cc/en/legal/licenses-terms/pdf/CC_EULA_Gen_WWCombined-MULTI-20121017_1230.pdf',\n",
       " '/content/dam/cc/en/legal/licenses-terms/pdf/CS6.pdf',\n",
       " '/content/dam/cc/en/legal/licenses-terms/pdf/Gen_WWAcrobat-en_US-20170202_1155.pdf',\n",
       " '/content/dam/cc/en/legal/licenses-terms/pdf/Gen_WWAcrobat-Classic-en_US-20200601_1155.pdf',\n",
       " '/content/dam/cc/en/legal/licenses-terms/pdf/Gen_WWAcrobat-Classic-en_US-20200601_1155.pdf',\n",
       " '/content/dam/cc/en/legal/licenses-terms/pdf/Gen_WWAcrobat-en_US-20170202_1155.pdf',\n",
       " '/content/dam/cc/en/legal/licenses-terms/pdf/Gen_WWAcrobat-Classic-en_US-20200601_1155.pdf',\n",
       " '/content/dam/cc/en/legal/licenses-terms/pdf/Gen_WWAcrobat-Classic-en_US-20200601_1155.pdf',\n",
       " 'https://www.adobe.com/legal/terms.html',\n",
       " 'https://www.adobe.com/legal/terms.html',\n",
       " '/content/dam/cc/en/legal/licenses-terms/pdf/Reader-EULA-en_US2020210215.pdf',\n",
       " '/content/dam/cc/en/legal/licenses-terms/pdf/Reader-EULA-en_US_20220701.pdf',\n",
       " 'https://www.adobe.com/legal/terms.html',\n",
       " 'https://www.adobe.com/legal/terms.html',\n",
       " 'https://www.adobe.com/legal/terms.html',\n",
       " 'https://www.adobe.com/legal/terms.html',\n",
       " 'https://www.adobe.com/legal/terms.html',\n",
       " 'https://www.adobe.com/legal/terms.html',\n",
       " 'https://www.adobe.com/legal/terms.html',\n",
       " 'https://www.adobe.com/legal/terms.html',\n",
       " 'https://www.adobe.com/legal/terms.html',\n",
       " 'https://www.adobe.com/go/experiencecloudterms',\n",
       " '/content/dam/cc/en/legal/licenses-terms/pdf/Adobe-Fonts-for-Fontspring-Reseller-2018.pdf',\n",
       " '/content/dam/cc/en/legal/licenses-terms/pdf/eula-20seat-combined-07.11.11.pdf',\n",
       " '/content/dam/cc/en/legal/licenses-terms/pdf/AdobeActiveShare_1.5.pdf',\n",
       " 'https://www.adobe.com/products/eulas/air/',\n",
       " 'https://www.adobe.com/legal/terms.html',\n",
       " 'http://www.adobe.com/legal/general-terms.html',\n",
       " '/content/dam/cc/en/legal/licenses-terms/pdf/Captivate_2019.pdf',\n",
       " '/content/dam/cc/en/legal/licenses-terms/pdf/Adobe-Learning-Manager-Terms-of-Use-en_US-20220717.pdf',\n",
       " 'https://www.adobe.com/legal/terms.html',\n",
       " '/content/dam/cc/en/legal/licenses-terms/pdf/Adobe%20Capture%20Handheld%20Client_5.1.pdf',\n",
       " '/content/dam/cc/en/legal/licenses-terms/pdf/Adobe_ColdFusion2023-en_US-20230328.pdf',\n",
       " '/content/dam/cc/en/legal/licenses-terms/pdf/ColdFusion-Builder-2016.pdf',\n",
       " '/content/dam/cc/en/legal/licenses-terms/pdf/Connect_Participant_TOU-MULTI-20120315_1338.pdf',\n",
       " 'https://www.adobe.com/products/eulas/connectmobile/tou/android/ACM_TOU_Android_en_US.htm',\n",
       " '/content/dam/cc/en/legal/licenses-terms/pdf/ContentServer4-ServiceApp_Combined-20080826.pdf',\n",
       " '/content/dam/cc/en/legal/licenses-terms/pdf/eLearning_6.0.pdf',\n",
       " '/content/dam/cc/en/legal/licenses-terms/pdf/Adobe%20Access_2.0.pdf',\n",
       " '/content/dam/cc/en/legal/licenses-terms/pdf/Flash%20Builder%20for%20PHP_4.5.pdf',\n",
       " 'https://www.adobe.com/products/eulas/air/',\n",
       " '/content/dam/cc/en/legal/licenses-terms/pdf/FrameMakerServer_2020.pdf',\n",
       " '/content/dam/cc/en/legal/licenses-terms/pdf/FrameMaker_2019.pdf',\n",
       " 'https://www.adobe.com/legal/terms.html',\n",
       " 'https://www.adobe.com/legal/terms.html',\n",
       " 'https://www.adobe.com/legal/terms.html',\n",
       " 'https://www.adobe.com/legal/licenses-terms/mobile-pra.html',\n",
       " '/content/dam/cc/en/legal/licenses-terms/pdf/PhotoshopElements_2018.pdf',\n",
       " 'https://www.adobe.com/legal/terms.html',\n",
       " '/content/dam/cc/en/legal/licenses-terms/pdf/Presenter_11.pdf',\n",
       " '/content/dam/cc/en/legal/licenses-terms/pdf/PresenterVideoExpress_2017.pdf',\n",
       " '/content/dam/cc/en/legal/licenses-terms/pdf/gen_wwcombined_20091001_1604.pdf',\n",
       " '/content/dam/cc/en/legal/licenses-terms/pdf/RoboHelp_2019.pdf',\n",
       " '/content/dam/cc/en/legal/licenses-terms/pdf/RoboHelpServer_10.0.pdf',\n",
       " '/content/dam/cc/en/legal/licenses-terms/pdf/AdobeS7ViewerSDK_HTML5SDK_Combined-08092011_0445.pdf',\n",
       " '/content/dam/cc/en/legal/licenses-terms/pdf/AdobeS7ViewerSDK_HTML5SDK_Combined-08092011_0445.pdf',\n",
       " '/content/dam/cc/en/legal/licenses-terms/pdf/Shockwave_12.0.pdf',\n",
       " '/content/dam/cc/en/legal/licenses-terms/pdf/Technical-Communications-Suite_2019.pdf',\n",
       " '/content/dam/cc/en/legal/licenses-terms/pdf/bronze_support_program_service_agreement.pdf',\n",
       " '/content/dam/cc/en/legal/licenses-terms/pdf/gold_support_program_service_agreement_clp.pdf',\n",
       " '/content/dam/cc/en/legal/licenses-terms/pdf/gold_support_program_service_agreement_flp.pdf',\n",
       " '/content/dam/cc/en/legal/licenses-terms/pdf/platinum_support_program_service_agreement.pdf',\n",
       " '/content/dam/cc/en/legal/licenses-terms/pdf/Technical-Communications-Suite_2019.pdf']"
      ]
     },
     "execution_count": 13,
     "metadata": {},
     "output_type": "execute_result"
    }
   ],
   "source": [
    "resource_url_list"
   ]
  },
  {
   "cell_type": "code",
   "execution_count": 14,
   "metadata": {},
   "outputs": [],
   "source": [
    "modified_url_list = []\n",
    "for url in resource_url_list:\n",
    "    if url.lower().endswith('.pdf'):\n",
    "        modified_url = \"https://www.adobe.com\" + url\n",
    "        modified_url_list.append(modified_url)\n",
    "    else:\n",
    "        modified_url_list.append(url)"
   ]
  },
  {
   "cell_type": "code",
   "execution_count": 16,
   "metadata": {},
   "outputs": [
    {
     "name": "stdout",
     "output_type": "stream",
     "text": [
      "Retrieved text from HTML: https://www.adobe.com/legal/terms.html\n",
      "Retrieved text from HTML: https://www.adobe.com/legal/terms.html\n",
      "Retrieved text from HTML: https://www.adobe.com/legal/terms.html\n",
      "Retrieved text from HTML: https://www.adobe.com/legal/terms.html\n",
      "Retrieved text from HTML: https://www.adobe.com/legal/terms.html\n",
      "Retrieved text from HTML: https://www.adobe.com/legal/terms.html\n",
      "Retrieved text from HTML: https://www.adobe.com/legal/terms.html\n",
      "Retrieved text from HTML: https://www.adobe.com/legal/terms.html\n",
      "Retrieved text from HTML: https://www.adobe.com/legal/terms.html\n",
      "Retrieved text from HTML: https://www.adobe.com/legal/terms.html\n",
      "Retrieved text from HTML: https://www.adobe.com/legal/terms.html\n",
      "Retrieved text from HTML: https://www.adobe.com/legal/terms.html\n",
      "Retrieved text from HTML: https://www.adobe.com/legal/terms.html\n",
      "Retrieved text from HTML: https://www.adobe.com/legal/terms.html\n",
      "Retrieved text from HTML: https://www.adobe.com/legal/terms.html\n",
      "Retrieved text from HTML: https://www.adobe.com/legal/terms.html\n",
      "Retrieved text from HTML: https://www.adobe.com/legal/terms.html\n",
      "Retrieved text from HTML: https://www.adobe.com/legal/terms.html\n",
      "Retrieved text from HTML: https://www.adobe.com/legal/terms.html\n",
      "Retrieved text from HTML: https://www.adobe.com/legal/terms.html\n",
      "Retrieved text from HTML: https://www.adobe.com/legal/terms.html\n",
      "Retrieved text from HTML: https://www.adobe.com/legal/terms.html\n",
      "Retrieved text from HTML: https://www.adobe.com/legal/terms.html\n",
      "Retrieved text from HTML: https://www.adobe.com/legal/terms.html\n",
      "Retrieved text from HTML: https://www.adobe.com/legal/terms.html\n",
      "Retrieved text from HTML: https://www.adobe.com/legal/terms.html\n",
      "Retrieved text from HTML: https://www.adobe.com/legal/terms.html\n",
      "Retrieved text from HTML: https://www.adobe.com/legal/terms.html\n",
      "Retrieved text from HTML: https://www.adobe.com/legal/terms.html\n",
      "Retrieved text from HTML: https://www.adobe.com/legal/terms.html\n",
      "Retrieved text from HTML: https://www.adobe.com/legal/terms.html\n",
      "Retrieved text from HTML: https://www.adobe.com/legal/terms.html\n",
      "Retrieved text from HTML: https://www.adobe.com/legal/terms.html\n",
      "Retrieved text from HTML: https://www.adobe.com/legal/terms.html\n",
      "Retrieved text from HTML: https://www.adobe.com/legal/terms.html\n",
      "Retrieved text from HTML: https://www.adobe.com/legal/terms.html\n",
      "Retrieved text from HTML: https://www.adobe.com/legal/terms.html\n",
      "Retrieved text from HTML: https://www.adobe.com/legal/terms.html\n",
      "Downloaded PDF: c:\\Users\\arjun\\Adobe license guidelines scraping\\CC_2013_Software\\CC_EULA_Gen_WWCombined-MULTI-20121017_1230.pdf.pdf\n",
      "Downloaded PDF: c:\\Users\\arjun\\Adobe license guidelines scraping\\CS6_Software\\CS6.pdf.pdf\n",
      "Downloaded PDF: c:\\Users\\arjun\\Adobe license guidelines scraping\\Acrobat_Pro_2017\\Gen_WWAcrobat-en_US-20170202_1155.pdf.pdf\n",
      "Downloaded PDF: c:\\Users\\arjun\\Adobe license guidelines scraping\\Acrobat_Pro_2017_applies_to_all_purchases_postSeptember_1_2021\\Gen_WWAcrobat-Classic-en_US-20200601_1155.pdf.pdf\n",
      "Downloaded PDF: c:\\Users\\arjun\\Adobe license guidelines scraping\\Acrobat_Pro_2020\\Gen_WWAcrobat-Classic-en_US-20200601_1155.pdf.pdf\n",
      "Downloaded PDF: c:\\Users\\arjun\\Adobe license guidelines scraping\\Acrobat_Standard_2017\\Gen_WWAcrobat-en_US-20170202_1155.pdf.pdf\n",
      "Downloaded PDF: c:\\Users\\arjun\\Adobe license guidelines scraping\\Acrobat_Standard_2017_applies_to_all_purchases_postSeptember_1_2021\\Gen_WWAcrobat-Classic-en_US-20200601_1155.pdf.pdf\n",
      "Downloaded PDF: c:\\Users\\arjun\\Adobe license guidelines scraping\\Acrobat_Standard_2020\\Gen_WWAcrobat-Classic-en_US-20200601_1155.pdf.pdf\n",
      "Retrieved text from HTML: https://www.adobe.com/legal/terms.html\n",
      "Retrieved text from HTML: https://www.adobe.com/legal/terms.html\n",
      "Downloaded PDF: c:\\Users\\arjun\\Adobe license guidelines scraping\\Acrobat_Reader_2017\\Reader-EULA-en_US2020210215.pdf.pdf\n",
      "Downloaded PDF: c:\\Users\\arjun\\Adobe license guidelines scraping\\Acrobat_Reader\\Reader-EULA-en_US_20220701.pdf.pdf\n",
      "Retrieved text from HTML: https://www.adobe.com/legal/terms.html\n",
      "Retrieved text from HTML: https://www.adobe.com/legal/terms.html\n",
      "Retrieved text from HTML: https://www.adobe.com/legal/terms.html\n",
      "Retrieved text from HTML: https://www.adobe.com/legal/terms.html\n",
      "Retrieved text from HTML: https://www.adobe.com/legal/terms.html\n",
      "Retrieved text from HTML: https://www.adobe.com/legal/terms.html\n",
      "Retrieved text from HTML: https://www.adobe.com/legal/terms.html\n",
      "Retrieved text from HTML: https://www.adobe.com/legal/terms.html\n",
      "Retrieved text from HTML: https://www.adobe.com/legal/terms.html\n",
      "Downloaded PDF: c:\\Users\\arjun\\Adobe license guidelines scraping\\Experience_Cloud\\experiencecloudterms.pdf\n",
      "Downloaded PDF: c:\\Users\\arjun\\Adobe license guidelines scraping\\Adobe_Fonts_for_Fontspring_Reseller\\Adobe-Fonts-for-Fontspring-Reseller-2018.pdf.pdf\n",
      "Downloaded PDF: c:\\Users\\arjun\\Adobe license guidelines scraping\\Font_Folio_111\\eula-20seat-combined-07.11.11.pdf.pdf\n",
      "Downloaded PDF: c:\\Users\\arjun\\Adobe license guidelines scraping\\Adobe_ActiveShare\\AdobeActiveShare_1.5.pdf.pdf\n",
      "Downloaded PDF: c:\\Users\\arjun\\Adobe license guidelines scraping\\Adobe_AIR\\.pdf\n",
      "Retrieved text from HTML: https://www.adobe.com/legal/terms.html\n",
      "Retrieved text from HTML: http://www.adobe.com/legal/general-terms.html\n",
      "Downloaded PDF: c:\\Users\\arjun\\Adobe license guidelines scraping\\Adobe_Captivate\\Captivate_2019.pdf.pdf\n",
      "Downloaded PDF: c:\\Users\\arjun\\Adobe license guidelines scraping\\Adobe_Learning_Manager\\Adobe-Learning-Manager-Terms-of-Use-en_US-20220717.pdf.pdf\n",
      "Retrieved text from HTML: https://www.adobe.com/legal/terms.html\n",
      "Downloaded PDF: c:\\Users\\arjun\\Adobe license guidelines scraping\\Adobe_Capture_Handheld_Client\\Adobe20Capture20Handheld20Client_5.1.pdf.pdf\n",
      "Downloaded PDF: c:\\Users\\arjun\\Adobe license guidelines scraping\\ColdFusion\\Adobe_ColdFusion2023-en_US-20230328.pdf.pdf\n",
      "Downloaded PDF: c:\\Users\\arjun\\Adobe license guidelines scraping\\ColdFusion_Builder\\ColdFusion-Builder-2016.pdf.pdf\n",
      "Downloaded PDF: c:\\Users\\arjun\\Adobe license guidelines scraping\\Adobe_Connect\\Connect_Participant_TOU-MULTI-20120315_1338.pdf.pdf\n",
      "Downloaded PDF: c:\\Users\\arjun\\Adobe license guidelines scraping\\Adobe_Connect_for_mobile\\ACM_TOU_Android_en_US.htm.pdf\n",
      "Downloaded PDF: c:\\Users\\arjun\\Adobe license guidelines scraping\\Adobe_Content_Server\\ContentServer4-ServiceApp_Combined-20080826.pdf.pdf\n",
      "Downloaded PDF: c:\\Users\\arjun\\Adobe license guidelines scraping\\Content_Server_Services_Appendix\\eLearning_6.0.pdf.pdf\n",
      "Downloaded PDF: c:\\Users\\arjun\\Adobe license guidelines scraping\\Adobe_eLearning_Suite\\Adobe20Access_2.0.pdf.pdf\n",
      "Downloaded PDF: c:\\Users\\arjun\\Adobe license guidelines scraping\\Flash_Access_Primetime_DRM\\Flash20Builder20for20PHP_4.5.pdf.pdf\n",
      "Downloaded PDF: c:\\Users\\arjun\\Adobe license guidelines scraping\\Flash_Builder_for_PHP\\.pdf\n",
      "Downloaded PDF: c:\\Users\\arjun\\Adobe license guidelines scraping\\Adobe_Flash_Player\\FrameMakerServer_2020.pdf.pdf\n",
      "Downloaded PDF: c:\\Users\\arjun\\Adobe license guidelines scraping\\Adobe_FrameMaker_Server\\FrameMaker_2019.pdf.pdf\n",
      "Retrieved text from HTML: https://www.adobe.com/legal/terms.html\n",
      "Retrieved text from HTML: https://www.adobe.com/legal/terms.html\n",
      "Retrieved text from HTML: https://www.adobe.com/legal/terms.html\n",
      "Downloaded PDF: c:\\Users\\arjun\\Adobe license guidelines scraping\\Photoshop_Elements\\PhotoshopElements_2018.pdf.pdf\n",
      "Retrieved text from HTML: https://www.adobe.com/legal/terms.html\n",
      "Downloaded PDF: c:\\Users\\arjun\\Adobe license guidelines scraping\\Adobe_Presenter\\Presenter_11.pdf.pdf\n",
      "Downloaded PDF: c:\\Users\\arjun\\Adobe license guidelines scraping\\Adobe_Presenter_Video_Express\\PresenterVideoExpress_2017.pdf.pdf\n",
      "Downloaded PDF: c:\\Users\\arjun\\Adobe license guidelines scraping\\Adobe_PS_Printer_Driver\\gen_wwcombined_20091001_1604.pdf.pdf\n",
      "Downloaded PDF: c:\\Users\\arjun\\Adobe license guidelines scraping\\RoboHelp\\RoboHelp_2019.pdf.pdf\n",
      "Downloaded PDF: c:\\Users\\arjun\\Adobe license guidelines scraping\\RoboHelp_Server\\RoboHelpServer_10.0.pdf.pdf\n",
      "Downloaded PDF: c:\\Users\\arjun\\Adobe license guidelines scraping\\Scene7_HTML5_SDK\\AdobeS7ViewerSDK_HTML5SDK_Combined-08092011_0445.pdf.pdf\n",
      "Downloaded PDF: c:\\Users\\arjun\\Adobe license guidelines scraping\\Scene7_Viewer_SDK\\AdobeS7ViewerSDK_HTML5SDK_Combined-08092011_0445.pdf.pdf\n",
      "Downloaded PDF: c:\\Users\\arjun\\Adobe license guidelines scraping\\Shockwave\\Shockwave_12.0.pdf.pdf\n",
      "Downloaded PDF: c:\\Users\\arjun\\Adobe license guidelines scraping\\Adobe_Technical_Communication_Suite\\Technical-Communications-Suite_2019.pdf.pdf\n",
      "Downloaded PDF: c:\\Users\\arjun\\Adobe license guidelines scraping\\Bronze_Support_Program\\bronze_support_program_service_agreement.pdf.pdf\n",
      "Downloaded PDF: c:\\Users\\arjun\\Adobe license guidelines scraping\\Gold_Support_Program_for_CLP_purchases\\gold_support_program_service_agreement_clp.pdf.pdf\n",
      "Downloaded PDF: c:\\Users\\arjun\\Adobe license guidelines scraping\\Gold_Support_Program_for_FLP_purchases\\gold_support_program_service_agreement_flp.pdf.pdf\n",
      "Downloaded PDF: c:\\Users\\arjun\\Adobe license guidelines scraping\\Platinum_Support_Program\\platinum_support_program_service_agreement.pdf.pdf\n",
      "Downloaded PDF: c:\\Users\\arjun\\Adobe license guidelines scraping\\Technical_Solution_Management\\Technical-Communications-Suite_2019.pdf.pdf\n"
     ]
    }
   ],
   "source": [
    "# Create a folder for each file and download the corresponding PDF file or retrieve text from HTML\n",
    "for name, url in zip(filtered_text_list, modified_url_list):\n",
    "    # Sanitize the folder name to remove special characters and spaces\n",
    "    sanitized_name = re.sub(r'[^\\w\\s]', '', name)\n",
    "    sanitized_name = sanitized_name.replace(' ', '_')  # Replace spaces with underscores\n",
    "\n",
    "    # Create a folder for the file and save it in the folder\n",
    "    folder_path = os.path.join(os.getcwd(), sanitized_name)\n",
    "    os.makedirs(folder_path, exist_ok=True)\n",
    "\n",
    "    # Check if the URL ends with .pdf or .html\n",
    "    if url.lower().endswith('.html'):\n",
    "        # Retrieve text from the HTML file and save it in a text file in the folder\n",
    "        response = requests.get(url,headers=headers)\n",
    "        if response.status_code == 200:\n",
    "            soup = BeautifulSoup(response.content, 'html.parser')\n",
    "            lic_term = soup.find_all(\"div\", id= \"root_content_flex\")\n",
    "            for i in lic_term:\n",
    "                text = i.text\n",
    "                text_file_path = os.path.join(folder_path, f\"License_guidelines.txt\")\n",
    "                with open(text_file_path, 'w', encoding='utf-8') as text_file:\n",
    "                    text_file.write(text)\n",
    "                print(f\"Retrieved text from HTML: {url}\")\n",
    "        else:\n",
    "            print(f\"Failed to retrieve text from HTML: {url}\")\n",
    "    else:\n",
    "        # Download the PDF file and save it in the folder\n",
    "        response = requests.get(url, headers=headers)\n",
    "        if response.status_code == 200:\n",
    "            pdf_file_name = os.path.basename(url)\n",
    "            simplified_pdf_file_name = re.sub(r'[^\\w\\s.-]', '', pdf_file_name)\n",
    "            pdf_file_path = os.path.join(folder_path, f\"{simplified_pdf_file_name}.pdf\")\n",
    "            with open(pdf_file_path, 'wb') as pdf_file:\n",
    "                pdf_file.write(response.content)\n",
    "            print(f\"Downloaded PDF: {pdf_file_path}\")\n",
    "        \n",
    "    \n",
    "\n"
   ]
  },
  {
   "cell_type": "code",
   "execution_count": null,
   "metadata": {},
   "outputs": [],
   "source": []
  }
 ],
 "metadata": {
  "kernelspec": {
   "display_name": "Python (cv)",
   "language": "python",
   "name": "cv"
  },
  "language_info": {
   "codemirror_mode": {
    "name": "ipython",
    "version": 3
   },
   "file_extension": ".py",
   "mimetype": "text/x-python",
   "name": "python",
   "nbconvert_exporter": "python",
   "pygments_lexer": "ipython3",
   "version": "3.10.14"
  }
 },
 "nbformat": 4,
 "nbformat_minor": 2
}
